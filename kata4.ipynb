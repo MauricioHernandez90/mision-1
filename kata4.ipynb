{
 "cells": [
  {
   "cell_type": "markdown",
   "metadata": {},
   "source": [
    "# Ejercicio 1: Transformar cadenas"
   ]
  },
  {
   "cell_type": "code",
   "execution_count": 88,
   "metadata": {},
   "outputs": [
    {
     "name": "stdout",
     "output_type": "stream",
     "text": [
      " \n",
      "On average, the Moon moves 4cm away from the Earth every year\n",
      " The highest daylight temperature of the Moon is 127 C\n",
      " \n",
      "On average, the Moon moves 4cm away from the Earth every year\n",
      " The highest daylight temperature of the Moon is 127 Celcius\n"
     ]
    }
   ],
   "source": [
    "text = \"\"\"Interesting facts about the Moon. The Moon is Earth's only satellite. There are several interesting facts about the Moon and how it affects life here on Earth. \n",
    "On average, the Moon moves 4cm away from the Earth every year. This yearly drift is not significant enough to cause immediate effects on Earth. The highest daylight temperature of the Moon is 127 C.\"\"\"\n",
    "\n",
    "# Añade el código necesario\n",
    "div = text.split(\".\")\n",
    "div\n",
    "\n",
    "# Define las palabras pista: average, temperature y distance suenan bien\n",
    "p_key = [\"temperature\", \"average\", \"distance\" ]\n",
    "\n",
    "# Ciclo for para recorrer la cadena\n",
    "for item in div:\n",
    "    for palabra in p_key:\n",
    "        if palabra in item:\n",
    "            print(item)\n",
    "            break\n",
    "\n",
    "# Ciclo para cambiar C a Celsius\n",
    "for item in div:\n",
    "    for palabra in p_key:\n",
    "        if palabra in item:\n",
    "            print(item.replace (\"C\", \"Celcius\"))\n",
    "            break\n"
   ]
  },
  {
   "cell_type": "markdown",
   "metadata": {},
   "source": [
    "# Ejercicio 2: Formateando Cadenas"
   ]
  },
  {
   "cell_type": "code",
   "execution_count": 89,
   "metadata": {},
   "outputs": [
    {
     "name": "stdout",
     "output_type": "stream",
     "text": [
      "Datos interesantes sobre la gravedad entre el satelite Luna y el planeta Tierra\n",
      "\n",
      " Hechos interesantes sobre el satelite Luna:\n",
      "\t Planeta:\t Tierra\n",
      "\t Satelite:\t Luna\n",
      "\t Gravedad:\t 1.62 m/s2\n",
      "\n",
      " \n",
      "Datos interesantes sobre la gravedad entre el satelite Geminides y el planeta Marte\n",
      "\n",
      "Hechos interesantes sobre el satelite Geminides:\n",
      "\t Planeta:\t Marte\n",
      "\t Satelite:\t Geminides\n",
      "\t Gravedad:\t 0.00 m/s2\n",
      "\n"
     ]
    }
   ],
   "source": [
    "# Datos con los que vas a trabajar\n",
    "satelite = \"Luna\"\n",
    "gravedad = 0.00162 # in kms\n",
    "gms = gravedad * 1000\n",
    "planeta = \"Tierra\"\n",
    "\n",
    "# Creamos el título\n",
    "titulo = f'Datos interesantes sobre la gravedad entre el satelite {satelite} y el planeta {planeta}\\n\\n'\n",
    "\n",
    "# Creamos la plantilla\n",
    "datos = f\"\"\" Hechos interesantes sobre el satelite {satelite}:\n",
    "\\t Planeta:\\t {planeta}\n",
    "\\t Satelite:\\t {satelite}\n",
    "\\t Gravedad:\\t {gms:.2f} m/s2\n",
    "\"\"\"\n",
    "\n",
    "# Unión de ambas cadenas\n",
    "u_cadena = titulo + datos\n",
    "\n",
    "\n",
    "# Comprueba la plantilla\n",
    "# print(nombre_plantilla)\n",
    "print(u_cadena)\n",
    "\n",
    "# Nueva plantilla\n",
    "\n",
    "\n",
    "datos_n = \"\"\" \n",
    "Datos interesantes sobre la gravedad entre el satelite {s} y el planeta {p}\n",
    "\n",
    "Hechos interesantes sobre el satelite {s}:\n",
    "\\t Planeta:\\t {p}\n",
    "\\t Satelite:\\t {s}\n",
    "\\t Gravedad:\\t {g:.2f} m/s2\n",
    "\"\"\".format(s=\"Geminides\", p=\"Marte\", g=0.00143)\n",
    "\n",
    "print(datos_n)\n",
    "\n"
   ]
  }
 ],
 "metadata": {
  "interpreter": {
   "hash": "916dbcbb3f70747c44a77c7bcd40155683ae19c65e1c03b4aa3499c5328201f1"
  },
  "kernelspec": {
   "display_name": "Python 3.8.10 64-bit",
   "language": "python",
   "name": "python3"
  },
  "language_info": {
   "codemirror_mode": {
    "name": "ipython",
    "version": 3
   },
   "file_extension": ".py",
   "mimetype": "text/x-python",
   "name": "python",
   "nbconvert_exporter": "python",
   "pygments_lexer": "ipython3",
   "version": "3.8.10"
  },
  "orig_nbformat": 4
 },
 "nbformat": 4,
 "nbformat_minor": 2
}
