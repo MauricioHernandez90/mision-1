{
 "cells": [
  {
   "cell_type": "markdown",
   "metadata": {},
   "source": [
    "# Alerta Asteroide\n",
    "Bienvenido a Alerta Asteroide, te tendremos al tanto si hay un peligro inminente.\n",
    "cualquier asteroide viajando a mas de 25 Km/s será reportado como peligro inminente para la tierra."
   ]
  },
  {
   "cell_type": "code",
   "execution_count": 133,
   "metadata": {},
   "outputs": [
    {
     "name": "stdout",
     "output_type": "stream",
     "text": [
      "Un asteroide se acerca a la tierra a una velodicad de 54 km/s, peligro inminente, extreme precauciones\n"
     ]
    }
   ],
   "source": [
    "# Declaramos la variable que almacenará el valor del la velocidad del asteroide\n",
    "a = 54\n",
    "# la condición if verificará si el valor de \"a\" es mayor a 25.\n",
    "if a > 25:\n",
    "    # si la condición es verdadera, se imprimira una advertencia incluyendo el valor de \"a\". Es decir, el valor del asteroide\n",
    "    print(\"Un asteroide se acerca a la tierra a una velodicad de \"+ str(a) +\" km/s, peligro inminente, extreme precauciones\")\n",
    "    "
   ]
  },
  {
   "cell_type": "markdown",
   "metadata": {},
   "source": [
    "# Preparados para el espectaculo\n",
    "¿Sabías que si un asteroide se acerca a 20 kms/s a la tierra podras ver un rayo de luz?\n",
    "Tranquilo, te avisaremos si hay alguno cerca."
   ]
  },
  {
   "cell_type": "code",
   "execution_count": 134,
   "metadata": {},
   "outputs": [
    {
     "name": "stdout",
     "output_type": "stream",
     "text": [
      "Todos alerta, se acerca un asteroide a 41 km/s a la tierra y habrá un expectaculo de luz\n"
     ]
    }
   ],
   "source": [
    "a = 41\n",
    "if a > 20:\n",
    "    print(\"Todos alerta, se acerca un asteroide a \"+str(a)+\" km/s a la tierra y habrá un expectaculo de luz\")\n",
    "elif a == 20:\n",
    "    print(\"Todos alerta, se acerca un asteroide a \"+str(a)+\" km/s a la tierra y habrá un expectaculo de luz\")\n",
    "else:\n",
    "    print(\"tranquilo, aún no hay nada interesante\")\n"
   ]
  },
  {
   "cell_type": "markdown",
   "metadata": {},
   "source": [
    "# Alerta Máxima\n",
    "Si un asteroide golpea la tierra, el peligro será segun su tamaño y la velocidad con la que este caiga."
   ]
  },
  {
   "cell_type": "code",
   "execution_count": 135,
   "metadata": {},
   "outputs": [
    {
     "name": "stdout",
     "output_type": "stream",
     "text": [
      "PELIGRO!, un asteroide con un diametro de 100 metros va a colisionar contra la tierra a una velocidad de 20 km/s, todos alerta!\n"
     ]
    }
   ],
   "source": [
    "tam = 100\n",
    "vel = 20\n",
    "\n",
    "if tam < 25 and vel <= 25 :\n",
    "    print(\"Tranquilos, un asteroide de \"+str(tam)+\" metros de ancho y que viaja a \"+str(vel)+\" km/s tratará de entrar a la tierra pero se quemará.\")\n",
    "    if vel >= 20:\n",
    "        print(\"El asteroide producirá un rayo de luz en el cielo\")\n",
    "elif tam >= 25 or vel > 25:\n",
    "    print(\"PELIGRO!, un asteroide con un diametro de \"+str(tam)+\" metros va a colisionar contra la tierra a una velocidad de \"+str(vel)+\" km/s, todos alerta!\")\n",
    "else:\n",
    "    print(\"tranquilo, aquí no pasa nada\")\n"
   ]
  }
 ],
 "metadata": {
  "interpreter": {
   "hash": "916dbcbb3f70747c44a77c7bcd40155683ae19c65e1c03b4aa3499c5328201f1"
  },
  "kernelspec": {
   "display_name": "Python 3.8.10 64-bit",
   "language": "python",
   "name": "python3"
  },
  "language_info": {
   "codemirror_mode": {
    "name": "ipython",
    "version": 3
   },
   "file_extension": ".py",
   "mimetype": "text/x-python",
   "name": "python",
   "nbconvert_exporter": "python",
   "pygments_lexer": "ipython3",
   "version": "3.8.10"
  },
  "orig_nbformat": 4
 },
 "nbformat": 4,
 "nbformat_minor": 2
}
