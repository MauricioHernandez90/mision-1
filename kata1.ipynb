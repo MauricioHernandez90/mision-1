{
 "cells": [
  {
   "cell_type": "markdown",
   "metadata": {},
   "source": []
  },
  {
   "cell_type": "markdown",
   "metadata": {},
   "source": [
    "# Bienvenido\n",
    "\n",
    "\n",
    "## Fecha de Hoy\n",
    "Oficial superior este programa nos ayudará a imprimir la fecha de hoy \n"
   ]
  },
  {
   "cell_type": "code",
   "execution_count": 29,
   "metadata": {},
   "outputs": [
    {
     "name": "stdout",
     "output_type": "stream",
     "text": [
      "Today's date is:  2022-02-05\n"
     ]
    }
   ],
   "source": [
    "# el programa importa la date de la libreria datetime,\n",
    "from datetime import date\n",
    "# despues declaramos una variable que almacenará la fecha de hoy\n",
    "hoy = date.today()\n",
    "# acto seguido impriremos la fecha actual llamando la variable hoy que le almacena\n",
    "print (\"Today's date is: \", hoy)"
   ]
  },
  {
   "cell_type": "markdown",
   "metadata": {},
   "source": [
    "#  Parsec a años luz\n",
    "Ahora sabremos cuantos años luz nos implicará en parsec\n"
   ]
  },
  {
   "cell_type": "code",
   "execution_count": 30,
   "metadata": {},
   "outputs": [
    {
     "name": "stdout",
     "output_type": "stream",
     "text": [
      "11 parsec, is 35.877159999999996 lightyears\n"
     ]
    }
   ],
   "source": [
    "# Primero le damos un valor a la variable parsec, en este caso 11\n",
    "parsec = 11\n",
    "#un parsec vale 3.26156, por lo tanto .. \n",
    "#la formula para determinar cuantos años luz son 1 parsec es:\n",
    "# parsec * 3.26156 = lightyears \n",
    "\n",
    "#Por lo tanto lightyears tomará el valor de la multiplicación entre 3.26156 y los parsec que se hayan agregado al programa \n",
    "lightyears = 3.26156 * parsec\n",
    "\n",
    "#ahora el programa imprimirá el resultado imprimiendo primero las variables parsec y lightyears convirtiendolas a un string y haciendo concatenaciones.\n",
    "print(str(parsec) + \" parsec, is \" + str(lightyears) + \" lightyears\")"
   ]
  },
  {
   "cell_type": "markdown",
   "metadata": {},
   "source": [
    "##"
   ]
  },
  {
   "cell_type": "markdown",
   "metadata": {},
   "source": []
  },
  {
   "cell_type": "code",
   "execution_count": null,
   "metadata": {},
   "outputs": [],
   "source": []
  }
 ],
 "metadata": {
  "interpreter": {
   "hash": "916dbcbb3f70747c44a77c7bcd40155683ae19c65e1c03b4aa3499c5328201f1"
  },
  "kernelspec": {
   "display_name": "Python 3.8.10 64-bit",
   "language": "python",
   "name": "python3"
  },
  "language_info": {
   "codemirror_mode": {
    "name": "ipython",
    "version": 3
   },
   "file_extension": ".py",
   "mimetype": "text/x-python",
   "name": "python",
   "nbconvert_exporter": "python",
   "pygments_lexer": "ipython3",
   "version": "3.8.10"
  },
  "orig_nbformat": 4
 },
 "nbformat": 4,
 "nbformat_minor": 2
}
